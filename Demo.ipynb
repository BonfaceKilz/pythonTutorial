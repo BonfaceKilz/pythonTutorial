{
 "cells": [
  {
   "cell_type": "code",
   "execution_count": 21,
   "metadata": {},
   "outputs": [
    {
     "name": "stdout",
     "output_type": "stream",
     "text": [
      "3 4.3 my string another string\n"
     ]
    }
   ],
   "source": [
    "# Basic data structures\n",
    "a = 3 # Integer\n",
    "b = 4.3 # Float\n",
    "c = 'my string'\n",
    "d = \"another string\"\n",
    "\n",
    "print(a, b, c, d)"
   ]
  },
  {
   "cell_type": "code",
   "execution_count": 28,
   "metadata": {},
   "outputs": [
    {
     "name": "stdout",
     "output_type": "stream",
     "text": [
      "Hello my string another string\n",
      "Hello my string another string\n"
     ]
    }
   ],
   "source": [
    "print(f\"Hello {c} {d}\")\n",
    "print(\"Hello \" + c + \" \" + d)"
   ]
  },
  {
   "cell_type": "code",
   "execution_count": 32,
   "metadata": {},
   "outputs": [
    {
     "data": {
      "text/plain": [
       "'This is a default message'"
      ]
     },
     "execution_count": 32,
     "metadata": {},
     "output_type": "execute_result"
    }
   ],
   "source": [
    "def createDefaultMessage():\n",
    "    return \"This is a default message\"\n",
    "\n",
    "# Pitfall 1: Ignoring parens\n",
    "# createDefaultMessage\n",
    "\n",
    "# Pitfall 2: Giving wrong arguments\n",
    "# createDefaultMessage('random')\n",
    "\n",
    "# Correct\n",
    "createDefaultMessage()"
   ]
  },
  {
   "cell_type": "code",
   "execution_count": 36,
   "metadata": {},
   "outputs": [
    {
     "name": "stdout",
     "output_type": "stream",
     "text": [
      "Hello Paul\n",
      "Hello John Random\n"
     ]
    }
   ],
   "source": [
    "name = \"John\"\n",
    "\n",
    "def createTextMessage(name):\n",
    "    message = f\"Hello {name}\"\n",
    "    return message\n",
    "\n",
    "def weirdTextMessage(lastName):\n",
    "    message = f\"Hello {name} {lastName}\"\n",
    "    return message\n",
    "\n",
    "# expect print paul\n",
    "print(createTextMessage(\"Paul\"))\n",
    "print(weirdTextMessage(\"Random\"))"
   ]
  },
  {
   "cell_type": "code",
   "execution_count": 43,
   "metadata": {},
   "outputs": [
    {
     "name": "stdout",
     "output_type": "stream",
     "text": [
      "9\n"
     ]
    }
   ],
   "source": [
    "def doSomething():\n",
    "    return (4 + 5)\n",
    "\n",
    "r = doSomething()\n",
    "print(r)"
   ]
  },
  {
   "cell_type": "code",
   "execution_count": 45,
   "metadata": {},
   "outputs": [
    {
     "name": "stdout",
     "output_type": "stream",
     "text": [
      "9\n",
      "27\n",
      "81\n"
     ]
    }
   ],
   "source": [
    "def square(x):\n",
    "    return x * x\n",
    "\n",
    "def cube(x):\n",
    "    return  x ** 3\n",
    "\n",
    "def quantuple(x):\n",
    "    return x ** 4\n",
    "\n",
    "# Demo\n",
    "print(square(3))\n",
    "print(cube(3))\n",
    "print(quantuple(3))"
   ]
  },
  {
   "cell_type": "code",
   "execution_count": 48,
   "metadata": {},
   "outputs": [
    {
     "name": "stdout",
     "output_type": "stream",
     "text": [
      "25\n",
      "91\n",
      "337\n"
     ]
    }
   ],
   "source": [
    "def squareSum1(x, y):\n",
    "    return square(x) + square(y)\n",
    "\n",
    "def cubeSum1(x, y):\n",
    "    return  cube(x) + cube(y)\n",
    "\n",
    "def quantupleSum1(x, y):\n",
    "    return quantuple(x) + quantuple(y)\n",
    "\n",
    "# Demo\n",
    "print(squareSum1(3, 4))\n",
    "print(cubeSum1(3, 4))\n",
    "print(quantupleSum1(3, 4))"
   ]
  },
  {
   "cell_type": "code",
   "execution_count": 51,
   "metadata": {},
   "outputs": [
    {
     "name": "stdout",
     "output_type": "stream",
     "text": [
      "25\n"
     ]
    }
   ],
   "source": [
    "# Higher order functions\n",
    "# Functions as first class citizens\n",
    "\n",
    "def generateSumFn(fn, x, y):\n",
    "    return fn(x) + fn(y)\n",
    "\n",
    "print(generateSumFn(square, 3, 4))"
   ]
  },
  {
   "cell_type": "code",
   "execution_count": 69,
   "metadata": {},
   "outputs": [
    {
     "name": "stdout",
     "output_type": "stream",
     "text": [
      "[1, 2, 3]\n",
      "[1, 2, 3, 4]\n",
      "[4, 5, 6, 7]\n",
      "[1, 2, 3, 4, 5, 6]\n"
     ]
    }
   ],
   "source": [
    "# lists\n",
    "a = [1,2,3,4, 5, 6, 7]\n",
    "b = [1, \"random\", 2]\n",
    "c = [cube, square, quantuple]\n",
    "\n",
    "# Slicing\n",
    "print(a[0:3])\n",
    "print(a[:4])\n",
    "print(a[3:])\n",
    "print(a[:-1\n",
    "       )"
   ]
  }
 ],
 "metadata": {
  "kernelspec": {
   "display_name": "Python 3",
   "language": "python",
   "name": "python3"
  },
  "language_info": {
   "codemirror_mode": {
    "name": "ipython",
    "version": 3
   },
   "file_extension": ".py",
   "mimetype": "text/x-python",
   "name": "python",
   "nbconvert_exporter": "python",
   "pygments_lexer": "ipython3",
   "version": "3.7.0"
  }
 },
 "nbformat": 4,
 "nbformat_minor": 2
}
